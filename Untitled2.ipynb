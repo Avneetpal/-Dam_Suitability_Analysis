{
 "cells": [
  {
   "cell_type": "code",
   "execution_count": 2,
   "id": "a5b1c69a-a68d-4fff-a426-d933bf09ac30",
   "metadata": {},
   "outputs": [
    {
     "ename": "ModuleNotFoundError",
     "evalue": "No module named 'whitebox'",
     "output_type": "error",
     "traceback": [
      "\u001b[1;31m---------------------------------------------------------------------------\u001b[0m",
      "\u001b[1;31mModuleNotFoundError\u001b[0m                       Traceback (most recent call last)",
      "Cell \u001b[1;32mIn[2], line 2\u001b[0m\n\u001b[0;32m      1\u001b[0m \u001b[38;5;28;01mimport\u001b[39;00m\u001b[38;5;250m \u001b[39m\u001b[38;5;21;01mos\u001b[39;00m\n\u001b[1;32m----> 2\u001b[0m \u001b[38;5;28;01mimport\u001b[39;00m\u001b[38;5;250m \u001b[39m\u001b[38;5;21;01mwhitebox\u001b[39;00m\n\u001b[0;32m      3\u001b[0m \u001b[38;5;28;01mimport\u001b[39;00m\u001b[38;5;250m \u001b[39m\u001b[38;5;21;01mrasterio\u001b[39;00m\n\u001b[0;32m      4\u001b[0m \u001b[38;5;28;01mimport\u001b[39;00m\u001b[38;5;250m \u001b[39m\u001b[38;5;21;01mnumpy\u001b[39;00m\u001b[38;5;250m \u001b[39m\u001b[38;5;28;01mas\u001b[39;00m\u001b[38;5;250m \u001b[39m\u001b[38;5;21;01mnp\u001b[39;00m\n",
      "\u001b[1;31mModuleNotFoundError\u001b[0m: No module named 'whitebox'"
     ]
    }
   ],
   "source": [
    "import os\n",
    "import whitebox\n",
    "import rasterio\n",
    "import numpy as np\n",
    "\n",
    "# --- CRITICAL: Set the path to your manually downloaded WhiteboxTools executable directory ---\n",
    "# This path is relative to your 'Scripts' folder where this notebook is located.\n",
    "# It tells the 'whitebox' Python package where to find the 'whitebox_tools.exe' you extracted.\n",
    "whitebox.whitebox_path = os.path.abspath(os.path.join(os.getcwd(), \"..\", \"Data\", \"WhiteboxTools\")) \n",
    "print(f\"WhiteboxTools executable path set to: {whitebox.whitebox_path}\") # For verification\n",
    "\n",
    "# Initialize WhiteboxTools\n",
    "wbt = whitebox.WhiteboxTools()\n",
    "print(f\"WhiteboxTools initialized. Version: {wbt.version()}\") # Verify initialization\n",
    "# ... rest of your script ..."
   ]
  },
  {
   "cell_type": "code",
   "execution_count": null,
   "id": "3905dd83-beb1-4f8e-9bab-4cf9be9c527f",
   "metadata": {},
   "outputs": [],
   "source": []
  }
 ],
 "metadata": {
  "kernelspec": {
   "display_name": "Python 3 (ipykernel)",
   "language": "python",
   "name": "python3"
  },
  "language_info": {
   "codemirror_mode": {
    "name": "ipython",
    "version": 3
   },
   "file_extension": ".py",
   "mimetype": "text/x-python",
   "name": "python",
   "nbconvert_exporter": "python",
   "pygments_lexer": "ipython3",
   "version": "3.9.23"
  }
 },
 "nbformat": 4,
 "nbformat_minor": 5
}
